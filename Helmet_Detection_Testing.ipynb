{
 "cells": [
  {
   "cell_type": "markdown",
   "id": "fd29c858",
   "metadata": {},
   "source": [
    "## Imports for downloading youtube video"
   ]
  },
  {
   "cell_type": "code",
   "execution_count": null,
   "id": "bfb07490",
   "metadata": {},
   "outputs": [],
   "source": [
    "from pytube import YouTube"
   ]
  },
  {
   "cell_type": "markdown",
   "id": "e97802f1",
   "metadata": {},
   "source": [
    "## Video downloading"
   ]
  },
  {
   "cell_type": "code",
   "execution_count": null,
   "id": "2596ac39",
   "metadata": {},
   "outputs": [],
   "source": [
    "url = 'https://www.youtube.com/watch?v=9WNzIDEcNP4'"
   ]
  },
  {
   "cell_type": "code",
   "execution_count": null,
   "id": "f8475e5f",
   "metadata": {},
   "outputs": [],
   "source": [
    "easy_example = YouTube(url)\n",
    "easy_example = easy_example.streams.get_highest_resolution()"
   ]
  },
  {
   "cell_type": "code",
   "execution_count": null,
   "id": "6632f7a2",
   "metadata": {},
   "outputs": [],
   "source": [
    "easy_example.download()"
   ]
  },
  {
   "cell_type": "code",
   "execution_count": null,
   "id": "e4caa4fc",
   "metadata": {},
   "outputs": [],
   "source": [
    "url2 = 'https://www.youtube.com/watch?v=iEIk3RpV6RA'"
   ]
  },
  {
   "cell_type": "code",
   "execution_count": null,
   "id": "f6a86cdb",
   "metadata": {},
   "outputs": [],
   "source": [
    "hard_example = YouTube(url2)"
   ]
  },
  {
   "cell_type": "code",
   "execution_count": null,
   "id": "eaf54565",
   "metadata": {},
   "outputs": [],
   "source": [
    "hard_example = hard_example.streams.get_by_resolution('360p')\n",
    "hard_example.download()"
   ]
  },
  {
   "cell_type": "markdown",
   "id": "f140ccd9",
   "metadata": {},
   "source": [
    "## Clonning the DeepSort Repository"
   ]
  },
  {
   "cell_type": "code",
   "execution_count": null,
   "id": "9d81f78b",
   "metadata": {},
   "outputs": [],
   "source": [
    "!git clone --recurse-submodules https://github.com/mikel-brostrom/Yolov5_DeepSort_Pytorch.git"
   ]
  },
  {
   "cell_type": "markdown",
   "id": "3666073f",
   "metadata": {},
   "source": [
    "## Installing the required Dependencies for deepsort"
   ]
  },
  {
   "cell_type": "code",
   "execution_count": null,
   "id": "db015c27",
   "metadata": {},
   "outputs": [],
   "source": [
    "!cd Yolov5_DeepSort_Pytorch && pip install -r requirements.txt"
   ]
  },
  {
   "cell_type": "markdown",
   "id": "3e5ade02",
   "metadata": {},
   "source": [
    "#### Move the videos to test on Yolov5_DeepSort_Pytorch directory"
   ]
  },
  {
   "cell_type": "markdown",
   "id": "6c1f5fcd",
   "metadata": {},
   "source": [
    "## Testing on easy example\n",
    "\n",
    "\n",
    "#### Results will displayed live as well as the video will be saved in the runs directory of Yolov5_DeepSort_Pytorch"
   ]
  },
  {
   "cell_type": "code",
   "execution_count": null,
   "id": "c6a05042",
   "metadata": {},
   "outputs": [],
   "source": [
    "!cd Yolov5_DeepSort_Pytorch && python track.py --source \"Bike racing  royalty free video   no copyright  use in your project racing bikes.mp4\" --yolo_model new_exp_best.pt --img 320 --show-vid --save-vid"
   ]
  },
  {
   "cell_type": "markdown",
   "id": "b9a5e216",
   "metadata": {},
   "source": [
    "## Testing on hard example\n",
    "\n",
    "\n",
    "#### Results will displayed live as well as the video will be saved in the runs directory of Yolov5_DeepSort_Pytorch"
   ]
  },
  {
   "cell_type": "code",
   "execution_count": null,
   "id": "8620b92e",
   "metadata": {},
   "outputs": [],
   "source": [
    "!cd Yolov5_DeepSort_Pytorch && python track.py --source \"CRAZY INDIAN TRAFFIC CONGESTION.mp4\" --yolo_model new_exp_best.pt --img 320 --show-vid --save-vid"
   ]
  }
 ],
 "metadata": {
  "kernelspec": {
   "display_name": "Python 3 (ipykernel)",
   "language": "python",
   "name": "python3"
  },
  "language_info": {
   "codemirror_mode": {
    "name": "ipython",
    "version": 3
   },
   "file_extension": ".py",
   "mimetype": "text/x-python",
   "name": "python",
   "nbconvert_exporter": "python",
   "pygments_lexer": "ipython3",
   "version": "3.8.12"
  }
 },
 "nbformat": 4,
 "nbformat_minor": 5
}
